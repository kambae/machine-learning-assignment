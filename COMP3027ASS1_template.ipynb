{
 "cells": [
  {
   "cell_type": "markdown",
   "metadata": {},
   "source": [
    "### The University of Melbourne, School of Computing and Information Systems\n",
    "# COMP30027 Machine Learning, 2022 Semester 1\n",
    "\n",
    "## Assignment 1: Naive Bayes Leaner for Adult Database\n"
   ]
  },
  {
   "cell_type": "markdown",
   "metadata": {},
   "source": [
    "**Student Name(s):** `PLEASE ENTER YOUR NAME(S) HERE`\n",
    "<br>\n",
    "**Student ID(s):** `PLEASE ENTER YOUR ID(S) HERE`"
   ]
  },
  {
   "cell_type": "markdown",
   "metadata": {},
   "source": [
    "\n",
    "\n",
    "Marking will be applied on the four functions that are defined in this notebook, and to your responses to the questions at the end of this notebook.\n",
    "\n",
    "## General info\n",
    "\n",
    "<b>Due date</b>: Friday, 8 April 2022 7pm\n",
    "\n",
    "<b>Submission method</b>: Canvas submission\n",
    "\n",
    "<b>Submission materials</b>: This iPython notebook is a template which you will use for your Assignment 1 submission. You need to only submitted the completed copy of this iPython notebook.\n",
    "\n",
    "<b>Late submissions</b>: -10% per day up to 5 days (both weekdays and weekends count). Submissions more than 5 days late will not be accepted (resul in a mark of 0).\n",
    "<ul>\n",
    "    <li>one day late, -1.0;</li>\n",
    "    <li>two days late, -2.0;</li>\n",
    "    <li>three days late, -3.0;</li>\n",
    "    <li>four days late, -4.0;</li>\n",
    "    <li>five days late, -5.0;</li>\n",
    "</ul>\n",
    "\n",
    "<b>Extensions</b>: Students who are demonstrably unable to submit a full solution in time due to medical reasons or other trauma, may apply for an extension.  In these cases, you should email <a href=\"mailto:ni.ding@unimelb.edu.au\">Ni Ding</a> as soon as possible after those circumstances arise. If you attend a GP or other health care service as a result of illness, be sure to provide a Health Professional Report (HPR) form (get it from the Special Consideration section of the Student Portal), you will need this form to be filled out if your illness develops into something that later requires a Special Consideration application to be lodged. You should scan the HPR form and send it with the extension requests.\n",
    "\n",
    "<b>Marks</b>: This assignment will be marked out of 20, and make up 20% of your overall mark for this subject.\n",
    "\n",
    "<b>Materials</b>: Use Jupyter Notebook and Python page on Canvas for information on the basic setup required for this class, including an iPython notebook viewer and the python packages NLTK, Numpy, Scipy, Matplotlib, Scikit-Learn. You can use any Python built-in packages, but do not use any other 3rd party packages; if your iPython notebook doesn't run on the marker's machine, you will lose marks. <b> You should use Python 3</b>.  \n",
    "\n",
    "\n",
    "<b>Evaluation</b>: Your iPython notebook should run end-to-end without any errors in a reasonable amount of time, and you must follow all instructions provided below, including specific implementation requirements and instructions for what needs to be printed (please avoid printing output we don't ask for). You should edit the sections below where requested, but leave the rest of the code as is. You should leave the output from running your code in the iPython notebook you submit, to assist with marking. The amount each section is worth is given in parenthesis after the instructions. \n",
    "\n",
    "You will be marked not only on the correctness of your methods, but also the quality and efficency of your code: in particular, you should be careful to use Python built-in functions and operators when appropriate and pick descriptive variable names that adhere to <a href=\"https://www.python.org/dev/peps/pep-0008/\">Python style requirements</a>. If you think it might be unclear what you are doing, you should comment your code to help the marker make sense of it. We reserve the right to deduct up to 2 marks for unreadable or exessively inefficient code.\n",
    "\n",
    "8 of the marks available for this Project will be assigned to whether the four specified Python functions work in a manner consistent with the materials from COMP30027. Any other implementation will not be directly assessed (except insofar as it is required to make these five functions work correctly).\n",
    "\n",
    "12 of the marks will be assigned to your responses to the questions, in terms of both accuracy and insightfulness. We will be looking for evidence that you have an implementation that allows you to explore the problem, but also that you have thought deeply about the data and the behaviour of the Naive Bayes classifier.\n",
    "\n",
    "<b>Updates</b>: Any major changes to the assignment will be announced via Canvas. Minor changes and clarifications will be announced on the discussion board (ED -> Assignments -> A1); we recommend you check it regularly.\n",
    "\n",
    "<b>Academic misconduct</b>: For most people, collaboration will form a natural part of the undertaking of this homework, and we encourge you to discuss it in general terms with other students. However, this ultimately is still an individual task, and so reuse of code or other instances of clear influence will be considered cheating. Please check the <a href=\"https://canvas.lms.unimelb.edu.au/courses/124196/modules#module_662096\">CIS Academic Honesty training</a> for more information. We will be checking submissions for originality and will invoke the University’s <a href=\"http://academichonesty.unimelb.edu.au/policy.html\">Academic Misconduct policy</a> where inappropriate levels of collusion or plagiarism are deemed to have taken place.\n",
    "\n",
    "**IMPORTANT**\n",
    "\n",
    "Please carefully read and fill out the <b>Authorship Declaration</b> form at the bottom of the page. Failure to fill out this form results in the following deductions: \n",
    "<UL TYPE=”square”>\n",
    "<LI>missing Authorship Declaration at the bottom of the page, -5.0\n",
    "<LI>incomplete or unsigned Authorship Declaration at the bottom of the page, -3.0\n",
    "</UL>\n",
    "**NOTE: COMPLETE AND SUBMIT THIS FILE. YOU SHOULD IMPLEMENT FOUR FUNCTIONS AND INCLUDE YOUR ANSWERS TO THE QUESTIONS IN THIS FILE ONLY. NO OTHER SUBMISSION IS REQUIRED.**\n",
    "\n",
    "**Keep your code clean. Adding proper comments to your code is MANDATORY.**"
   ]
  },
  {
   "cell_type": "markdown",
   "metadata": {},
   "source": [
    "## Part 1: Base code [8 marks]\n",
    "\n",
    "Instructions\n",
    "1. Do **not** shuffle the data set\n",
    "2. Treat the attributes as they are(e.g., do **not** convert numeric attributes to categorical or categorical to numeric). Implement a Naive Bayes classifier with appropriate likelihood function for each attribute.\n",
    "3. You should implement the Naive Bayes classifier from scratch. Do **not** use existing implementations/learning algorithms.\n",
    "4. You CANNOT have more than one train or predict function. Both continuous numeric attributes and categorical ones should be trained in one `train()` function, similarly for the `predict()`.  \n",
    "5. Apart from the instructions in point 3, you may use libraries to help you with data reading, representation, maths or evaluation\n",
    "6. Ensure that all and only required information is printed, as indicated in the final three code cells. Failure to adhere to print the required information will result in **[-1 mark]** per case. *(We don't mind details like you print a list or several numbers -- just make sure the information is displayed so that it's easily accessible)\n",
    "7. You may change the prototypes of these functions, and you may write other functions, according to your requirements. We would appreciate it if the required functions were prominent/easy to find. \n",
    "8. You should add adequate comments to make your code easily comprehendible.*"
   ]
  },
  {
   "cell_type": "code",
   "execution_count": 154,
   "metadata": {},
   "outputs": [],
   "source": [
    "class NaiveBayes:\n",
    "    # priors = {}\n",
    "    # likelihood_model = None\n",
    "    class ConditionalProbability:\n",
    "        parameters_multinomial = {}\n",
    "        parameters_gaussian = {}\n",
    "        def __init__(self, x, y, smoothing_parameter):\n",
    "            self.num_features = x.shape[1]\n",
    "            x.apply(lambda c: self.fit_parameter(c, y, c.name, smoothing_parameter), axis=0)\n",
    "        \n",
    "        def fit_parameter(self, x_feat, y, feat_name, smoothing_parameter):\n",
    "            # remove all entries where either feature or label are nan\n",
    "            nan_indexes = list(set([i for i in range(0, len(x_feat)) if x_feat[i] == np.nan] + [i for i in range(0, len(y)) if y[i] == np.nan]))\n",
    "            filtered_x_feat = x_feat.drop(nan_indexes)\n",
    "            filtered_y = y.drop(nan_indexes)\n",
    "            \n",
    "            if(x_feat.dtype == \"object\"):\n",
    "                self.fit_parameter_categorical(filtered_x_feat, filtered_y, feat_name, smoothing_parameter)\n",
    "            elif(x_feat.dtype == \"int64\"):\n",
    "                self.fit_parameter_continuous(filtered_x_feat, filtered_y, feat_name)\n",
    "        \n",
    "        \n",
    "        def fit_parameter_continuous(self, x_feat, y, feat_name):\n",
    "            self.parameters_gaussian[feat_name] = {}\n",
    "            for y_val in y.unique():\n",
    "                # todo: check indexing still works after nan removal - maybe cast to list before this\n",
    "                filtered_x_feat = np.array([x_feat[i] for i in range(0, len(x_feat)) if y[i] == y_val])\n",
    "                mean = np.mean(filtered_x_feat)\n",
    "                sd = np.sqrt(np.var(filtered_x_feat, ddof=1))\n",
    "                self.parameters_gaussian[feat_name][y_val] = {\"mean\": mean, \"sd\": sd}\n",
    "        \n",
    "        # todo: add smoothing here or in get conditional_probability_categorical\n",
    "        def fit_parameter_categorical(self, x_feat, y, feat_name, smoothing_parameter):\n",
    "            self.parameters_multinomial[feat_name] = {}\n",
    "            for y_val in y.unique():\n",
    "                self.parameters_multinomial[feat_name][y_val] = {}\n",
    "                for x_val in x_feat.unique(): \n",
    "                    # todo: check indexing still works after nan removal - maybe cast to list before this\n",
    "                    occurences = [x_feat[i] for i in range(0, len(x_feat)) if y[i] == y_val].count(x_val)\n",
    "                    total = y.value_counts()[y_val]\n",
    "                    self.parameters_multinomial[feat_name][y_val][x_val] =  (float(occurences) + smoothing_parameter)/(total + smoothing_parameter * self.num_features)\n",
    "\n",
    "        \n",
    "        def get_conditional_probability(self, x_val, y_val, feat_name):\n",
    "            if type(x_val) is str:\n",
    "                return self.get_conditional_probability_categorical(x_val, y_val, feat_name)\n",
    "            elif (type(x_val) is float) or (type(x_val) is int):\n",
    "                return self.get_conditional_probability_continuous(x_val, y_val, feat_name)\n",
    "            return 0\n",
    "        \n",
    "        def get_conditional_probability_continuous(self, x_val, y_val, feat_name):\n",
    "            if y_val in self.parameters_gaussian[feat_name]:\n",
    "                params = self.parameters_gaussian[feat_name][y_val]\n",
    "                return norm.pdf(x_val, params[\"mean\"], params[\"sd\"])\n",
    "            return 0\n",
    "        \n",
    "        def get_conditional_probability_categorical(self, x_val, y_val, feat_name):\n",
    "            if y_val in self.parameters_multinomial[feat_name] and x_val in self.parameters_multinomial[feat_name][y_val]:\n",
    "                return self.parameters_multinomial[feat_name][y_val][x_val] \n",
    "            return 0\n",
    "    \n",
    "    class KDEConditionalProbability(ConditionalProbability):\n",
    "        parameters_kde = {}\n",
    "        \n",
    "        def __init__(self, x, y, smoothing_parameter, kde_bandwidth):\n",
    "            self.kde_bandwidth = kde_bandwidth\n",
    "            super().__init__(x, y, smoothing_parameter)\n",
    "        \n",
    "        def fit_parameter_continuous(self, x_feat, y, feat_name):\n",
    "            self.parameters_kde[feat_name] = {}\n",
    "            for y_val in y.unique():\n",
    "                # todo: check indexing still works after nan removal - maybe cast to list before this\n",
    "                filtered_x_feat = np.array([x_feat[i] for i in range(0, len(x_feat)) if y[i] == y_val])\n",
    "                self.parameters_kde[feat_name][y_val] = filtered_x_feat\n",
    "        \n",
    "        def get_conditional_probability_categorical(self, x_val, y_val, feat_name):\n",
    "            if y_val in self.parameters_kde[feat_name]:\n",
    "                sample = self.parameters_kde[feat_name][y_val]\n",
    "                kde = lambda x: (float(1) / len(sample)) * np.sum([norm.pdf(x - sample_val, 0, self.kde_bandwidth) for sample_val in sample])\n",
    "                return kde(x_val)\n",
    "            return 0\n",
    "    \n",
    "    \n",
    "    def __init__(self, smoothing_parameter=1, use_kde=False, kde_bandwidth=5):\n",
    "        self.smoothing_parameter = smoothing_parameter\n",
    "        self.use_kde = use_kde\n",
    "        self.possible_classes = []\n",
    "    \n",
    "    def train(self, x, y):\n",
    "        self.initialise_priors(y)\n",
    "        self.possible_classes = y.dropna().unique()\n",
    "        if self.use_kde:\n",
    "            self.likelihood_model = self.KDEConditionalProbability(x, y, self.smoothing_parameter, kde_bandwidth)\n",
    "        else:\n",
    "            self.likelihood_model = self.ConditionalProbability(x, y, self.smoothing_parameter)\n",
    "    \n",
    "    def initialise_priors(self, y):\n",
    "        self.priors = {}\n",
    "        filtered_y = y.dropna()\n",
    "        for y_val in filtered_y.unique():\n",
    "            occurences = filtered_y.value_counts()[y_val]\n",
    "            total = len(filtered_y)\n",
    "            self.priors[y_val] = float(occurences)/total\n",
    "\n",
    "    def get_model_value(self, i, clas):\n",
    "        return np.log(self.priors[clas]) + np.sum([np.log(self.likelihood_model.get_conditional_probability(item[1], clas, item[0])) for item in i.items()])\n",
    "            \n",
    "    def predict_single(self, i):\n",
    "        model_values = {clas: self.get_model_value(i, clas) for clas in self.possible_classes}\n",
    "        return max(model_values, key=model_values.get)\n",
    "    \n",
    "    def predict(self, x):\n",
    "        return x.apply(lambda i: self.predict_single(i), axis=1)\n",
    "\n",
    "    \n",
    "    "
   ]
  },
  {
   "cell_type": "code",
   "execution_count": 155,
   "metadata": {},
   "outputs": [],
   "source": [
    "# This function should prepare the data by reading it from a file and converting it into a useful format for training and testing\n",
    "# and implement 90-10 splitting as specified in the project description.\n",
    "def preprocess(filename):\n",
    "    data = pd.read_csv(filename)\n",
    "    \n",
    "    # # replace ? with NAN\n",
    "    # data.replace(\" ?\", np.nan, inplace=True)\n",
    "    label_header = \"label\"\n",
    "    x, y = data.drop(label_header, axis=1), data[label_header]\n",
    "    return train_test_split(x, y, test_size=0.1, shuffle=False)\n",
    "    "
   ]
  },
  {
   "cell_type": "code",
   "execution_count": 156,
   "metadata": {},
   "outputs": [],
   "source": [
    "# This function should calculat prior probabilities and likelihoods (conditional probabilities) from the training data and using\n",
    "# to build a naive Bayes model\n",
    "\n",
    "def train(x, y):\n",
    "    NB = NaiveBayes()\n",
    "    NB.train(x, y)\n",
    "    return NB"
   ]
  },
  {
   "cell_type": "code",
   "execution_count": 157,
   "metadata": {},
   "outputs": [],
   "source": [
    "# This function should predict classes for new items in the testing data\n",
    "def predict(model, x):\n",
    "    return model.predict(x)"
   ]
  },
  {
   "cell_type": "code",
   "execution_count": 158,
   "metadata": {},
   "outputs": [],
   "source": [
    "# This function should evaliate the prediction performance by comparing your model’s class outputs to ground\n",
    "# truth labels, return and output accuracy, confusion matrix and F1 score.\n",
    "\n",
    "def evaluate(y_actual, y_pred):\n",
    "    display_labels = [' <=50K', ' >50K']\n",
    "    conf_matrix = metrics.confusion_matrix(y_actual, y_pred, labels=display_labels)\n",
    "    disp = metrics.ConfusionMatrixDisplay(confusion_matrix=conf_matrix, display_labels=display_labels)\n",
    "    f1 = metrics.f1_score(y_actual, y_pred, pos_label=' <=50K')\n",
    "    disp.plot()\n",
    "    return {\"conf_matrix\": conf_matrix, \"f1_score\": f1}"
   ]
  },
  {
   "cell_type": "code",
   "execution_count": 159,
   "metadata": {},
   "outputs": [
    {
     "name": "stdout",
     "output_type": "stream",
     "text": [
      "900     <=50K\n",
      "901     <=50K\n",
      "902     <=50K\n",
      "903     <=50K\n",
      "904     <=50K\n",
      "905     <=50K\n",
      "906     <=50K\n",
      "907     <=50K\n",
      "908     <=50K\n",
      "909     <=50K\n",
      "910      >50K\n",
      "911     <=50K\n",
      "912     <=50K\n",
      "913     <=50K\n",
      "914     <=50K\n",
      "915     <=50K\n",
      "916      >50K\n",
      "917      >50K\n",
      "918      >50K\n",
      "919     <=50K\n",
      "920     <=50K\n",
      "921     <=50K\n",
      "922     <=50K\n",
      "923     <=50K\n",
      "924     <=50K\n",
      "925     <=50K\n",
      "926     <=50K\n",
      "927     <=50K\n",
      "928      >50K\n",
      "929     <=50K\n",
      "930     <=50K\n",
      "931     <=50K\n",
      "932     <=50K\n",
      "933     <=50K\n",
      "934     <=50K\n",
      "935     <=50K\n",
      "936     <=50K\n",
      "937     <=50K\n",
      "938      >50K\n",
      "939     <=50K\n",
      "940     <=50K\n",
      "941     <=50K\n",
      "942     <=50K\n",
      "943      >50K\n",
      "944     <=50K\n",
      "945     <=50K\n",
      "946     <=50K\n",
      "947     <=50K\n",
      "948      >50K\n",
      "949     <=50K\n",
      "dtype: object\n",
      "Confusion Matrix:  [[69  6]\n",
      " [ 8 17]]\n",
      "F1 Score:  0.9078947368421053\n"
     ]
    },
    {
     "data": {
      "image/png": "[encoded data removed]",
      "text/plain": [
       "<Figure size 432x288 with 2 Axes>"
      ]
     },
     "metadata": {
      "needs_background": "light"
     },
     "output_type": "display_data"
    }
   ],
   "source": [
    "# This cell should act as your \"main\" function where you call the above functions \n",
    "# on the full ADULT data set, and print the evaluation results. [0.33 marks]\n",
    "import pandas as pd\n",
    "import numpy as np\n",
    "from sklearn.model_selection import train_test_split\n",
    "from scipy.stats import norm\n",
    "from sklearn import metrics\n",
    "import matplotlib.pyplot as plt\n",
    "\n",
    "\n",
    "# First, read in the data and apply your NB model to the ADULT data\n",
    "path = \"dataset/adult.csv\"\n",
    "train_x, test_x, train_y, test_y = preprocess(path)\n",
    "\n",
    "model = train(train_x, train_y)\n",
    "predicted = predict(model, test_x)\n",
    "\n",
    "plt.show()\n",
    "\n",
    "results = evaluate(predicted, test_y)\n",
    "print(\"Confusion Matrix: \", results[\"conf_matrix\"])\n",
    "print(\"F1 Score: \", results[\"f1_score\"])\n",
    "\n",
    "\n",
    "# # Second, print the full evaluation results from the evaluate() function\n",
    "\n",
    "\n",
    "\n",
    "\n",
    "\n",
    "\n",
    "# # Third, print data statistics and model predictions, as instructed below \n",
    "# # N is the total number of instances, F the total number of attributes, L the total number of labels\n",
    "# # The \"class probabilities\" may be unnormalized\n",
    "# # The \"predicted class ID\" must be in range (0, L)\n",
    "\n",
    "# print(\"Attribute vectors of instances [0, 1, 2]: \", ) # of the first three records in adult.csv\n",
    "\n",
    "# print(\"\\nNumber of instances (N): \", )\n",
    "# print(\"Number of attributes (F): \", )\n",
    "# print(\"Number of labels (L): \", )\n",
    "\n",
    "\n",
    "# # print out the prediction results of the last three instances\n",
    "# print(\"\\n\\nPredicted class log-probabilities for instance N-3: \", )\n",
    "# print(\"Predicted class ID for instance N-3: \", )\n",
    "# print(\"\\nPredicted class log-probabilities for instance N-2: \", )\n",
    "# print(\"Predicted class ID for instance N-2: \", )\n",
    "# print(\"\\nPredicted class log-probabilities for instance N-1: \", )\n",
    "# print(\"Predicted class ID for instance N-1: \", )\n",
    "\n"
   ]
  },
  {
   "cell_type": "markdown",
   "metadata": {},
   "source": [
    "## Part 2: Conceptual questions [8 marks for groups of 1] / [16 marks for groups of 2]\n",
    "\n",
    "\n",
    "If you are in a group of 1, you should respond to Q1 and Q2.\n",
    "\n",
    "If you are in a group of 2, you should respond to Q1, Q2, Q3 and Q4.\n",
    "\n",
    "A response to a question should take about 100–250 words. You may need to develope codes or functions to help respond to the question here. \n",
    "\n",
    "#### NOTE: We strongly recommend <u>including figures or tables, etc.</u> to support your responses. The figures and tables inserted in Markdown cells must be reproducable by your code."
   ]
  },
  {
   "cell_type": "markdown",
   "metadata": {},
   "source": [
    "### Q1 [4 marks]\n",
    "<u>Sensitivity</u> and <u>specificity</u> are two model evaluation metrics.  A good model should have both sensitivity and specificity high. Use the $2 \\times 2$ confusion matrix returned by `evaluate()` to calculate the sensitivity and specificity. Do you see a difference between them? If so, what causes this difference? Provide suggestions to improve the model performance. "
   ]
  },
  {
   "cell_type": "code",
   "execution_count": 4,
   "metadata": {},
   "outputs": [],
   "source": [
    "# Write additional code here, if necessary (you may insert additional code cells)"
   ]
  },
  {
   "cell_type": "markdown",
   "metadata": {},
   "source": [
    "Provide your text answer of 150-200 words in this cell."
   ]
  },
  {
   "cell_type": "markdown",
   "metadata": {},
   "source": [
    "### Q2 [4 marks]\n",
    "You can adopt different methods for training and/or testing, which will produce different results in model evaluation. \n",
    "\n",
    "(a) Instead of Gaussian, <u>implement KDE</u> for  $P(X_i|c_j)$ for numeric attributes $X_i$. Compare the evaluation results with Gaussian. Which one do you think is more suitable to model $P(X_i|c_j)$, Gaussian or KDE? Observe all numeric attributes and justify your answer.\n",
    "\n",
    "You can choose an arbitrary value for kernel bandwidth $\\sigma$ for KDE, but a value between 3 and 15 is recommended. You should write code to implement KDE, not call an existing function/method such as `KernelDensity` from `scikit-learn`.\n",
    "\n",
    "(b) Implement <u>10-fold and 2-fold cross-validations</u>.  \n",
    "\tObserve the evaluation results in each fold and the average accuracy, recall and specificity over all folds. \n",
    "\tComment on what is the effect by changing the values of $m$ in $m$-fold cross validation. (You can choose either Gaussian or KDE Naive Bayes.)"
   ]
  },
  {
   "cell_type": "code",
   "execution_count": 5,
   "metadata": {},
   "outputs": [],
   "source": [
    "# Write additional code here, if necessary (you may insert additional code cells)"
   ]
  },
  {
   "cell_type": "markdown",
   "metadata": {
    "jupyter": {
     "outputs_hidden": true
    }
   },
   "source": [
    "Provide your text answer of 150-200 words in this cell."
   ]
  },
  {
   "cell_type": "markdown",
   "metadata": {},
   "source": [
    "### Q3 [4 marks]\n",
    "In `train()`, you are asked to treat the missing value of nominal attributes as a new category. There is another option (as suggested in Thu lecture in week 2): <u>ignoring the missing values</u>. \n",
    "Compare the two methods in both large and small datasets. Comment and explain your observations.\n",
    "You can extract the first 50 records to construct a small dataset.Use Gaussian Naive Bayes only for this question."
   ]
  },
  {
   "cell_type": "code",
   "execution_count": 6,
   "metadata": {},
   "outputs": [],
   "source": [
    "# Write additional code here, if necessary (you may insert additional code cells)"
   ]
  },
  {
   "cell_type": "markdown",
   "metadata": {},
   "source": [
    "Provide your text answer of 150-200 words in this cell."
   ]
  },
  {
   "cell_type": "markdown",
   "metadata": {},
   "source": [
    "### Q4 [4 marks]\n",
    "In week 4, we have learned how to obtain information gain (IG) and gain ratio (GR) to choose an attribute to split a node in a decision tree. We will see how to apply them in the Naive Bayes classification.\n",
    "\n",
    "(a) Compute the GR of each attribute $X_i$, relative to the class distribution. In the Na\\\"ive Bayes classifier, remove attributes in the ascending order of GR: first, remove $P(X_i|c_j)$ such that $X_i$ has the least GR; second, remove $P(X_{i'}|c_j)$ such that $X_{i'}$ has the second least GR,......, until there is only one $X_{i*}$ with the largest GR remaining in the maximand $P(c_j) P(X_{i^*} | c_j)$. Observe the <u>change of the accuracy for both Gaussian and KDE</u> (Choose bandwidth $\\sigma=10$ for KDE).\n",
    "\n",
    "(b) Compute the IG between each pair of attributes. Describe and explain your observations. Choose an attribute and implement an estimator to predict the value of `education num`. Explain why you choose this attribute. Enumerate two other examples that an attribute can be used to estimate the other and explain the reason.  "
   ]
  },
  {
   "cell_type": "code",
   "execution_count": null,
   "metadata": {},
   "outputs": [],
   "source": [
    "# Write additional code here, if necessary (you may insert additional code cells)"
   ]
  },
  {
   "cell_type": "markdown",
   "metadata": {},
   "source": [
    "### (a)"
   ]
  },
  {
   "cell_type": "markdown",
   "metadata": {},
   "source": [
    "Provide your text answer to **Question 4.a** of 100-150 words in this cell."
   ]
  },
  {
   "cell_type": "markdown",
   "metadata": {},
   "source": [
    "### (b)"
   ]
  },
  {
   "cell_type": "markdown",
   "metadata": {},
   "source": [
    "Provide your text answer to **Question 4.b** of 150-200 words in this cell."
   ]
  },
  {
   "cell_type": "markdown",
   "metadata": {},
   "source": [
    "<b>Authorship Declaration</b>:\n",
    "\n",
    "   (1) I certify that the program contained in this submission is completely\n",
    "   my own individual work, except where explicitly noted by comments that\n",
    "   provide details otherwise.  I understand that work that has been developed\n",
    "   by another student, or by me in collaboration with other students,\n",
    "   or by non-students as a result of request, solicitation, or payment,\n",
    "   may not be submitted for assessment in this subject.  I understand that\n",
    "   submitting for assessment work developed by or in collaboration with\n",
    "   other students or non-students constitutes Academic Misconduct, and\n",
    "   may be penalized by mark deductions, or by other penalties determined\n",
    "   via the University of Melbourne Academic Honesty Policy, as described\n",
    "   at https://academicintegrity.unimelb.edu.au.\n",
    "\n",
    "   (2) I also certify that I have not provided a copy of this work in either\n",
    "   softcopy or hardcopy or any other form to any other student, and nor will\n",
    "   I do so until after the marks are released. I understand that providing\n",
    "   my work to other students, regardless of my intention or any undertakings\n",
    "   made to me by that other student, is also Academic Misconduct.\n",
    "\n",
    "   (3) I further understand that providing a copy of the assignment\n",
    "   specification to any form of code authoring or assignment tutoring\n",
    "   service, or drawing the attention of others to such services and code\n",
    "   that may have been made available via such a service, may be regarded\n",
    "   as Student General Misconduct (interfering with the teaching activities\n",
    "   of the University and/or inciting others to commit Academic Misconduct).\n",
    "   I understand that an allegation of Student General Misconduct may arise\n",
    "   regardless of whether or not I personally make use of such solutions\n",
    "   or sought benefit from such actions.\n",
    "\n",
    "   <b>Signed by</b>: [Enter your full name and student number here before submission]\n",
    "   \n",
    "   <b>Dated</b>: [Enter the date that you \"signed\" the declaration]"
   ]
  }
 ],
 "metadata": {
  "kernelspec": {
   "display_name": "Python 3 (ipykernel)",
   "language": "python",
   "name": "python3"
  },
  "language_info": {
   "codemirror_mode": {
    "name": "ipython",
    "version": 3
   },
   "file_extension": ".py",
   "mimetype": "text/x-python",
   "name": "python",
   "nbconvert_exporter": "python",
   "pygments_lexer": "ipython3",
   "version": "3.9.7"
  }
 },
 "nbformat": 4,
 "nbformat_minor": 4
}
