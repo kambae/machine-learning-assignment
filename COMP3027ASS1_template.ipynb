{
 "cells": [
  {
   "cell_type": "markdown",
   "metadata": {},
   "source": [
    "### The University of Melbourne, School of Computing and Information Systems\n",
    "# COMP30027 Machine Learning, 2022 Semester 1\n",
    "\n",
    "## Assignment 1: Naive Bayes Leaner for Adult Database\n"
   ]
  },
  {
   "cell_type": "markdown",
   "metadata": {},
   "source": [
    "**Student Name(s):** Ryan Kam\n",
    "<br>\n",
    "**Student ID(s):** 1170671"
   ]
  },
  {
   "cell_type": "markdown",
   "metadata": {},
   "source": [
    "\n",
    "\n",
    "Marking will be applied on the four functions that are defined in this notebook, and to your responses to the questions at the end of this notebook.\n",
    "\n",
    "## General info\n",
    "\n",
    "<b>Due date</b>: Friday, 8 April 2022 7pm\n",
    "\n",
    "<b>Submission method</b>: Canvas submission\n",
    "\n",
    "<b>Submission materials</b>: This iPython notebook is a template which you will use for your Assignment 1 submission. You need to only submitted the completed copy of this iPython notebook.\n",
    "\n",
    "<b>Late submissions</b>: -10% per day up to 5 days (both weekdays and weekends count). Submissions more than 5 days late will not be accepted (resul in a mark of 0).\n",
    "<ul>\n",
    "    <li>one day late, -1.0;</li>\n",
    "    <li>two days late, -2.0;</li>\n",
    "    <li>three days late, -3.0;</li>\n",
    "    <li>four days late, -4.0;</li>\n",
    "    <li>five days late, -5.0;</li>\n",
    "</ul>\n",
    "\n",
    "<b>Extensions</b>: Students who are demonstrably unable to submit a full solution in time due to medical reasons or other trauma, may apply for an extension.  In these cases, you should email <a href=\"mailto:ni.ding@unimelb.edu.au\">Ni Ding</a> as soon as possible after those circumstances arise. If you attend a GP or other health care service as a result of illness, be sure to provide a Health Professional Report (HPR) form (get it from the Special Consideration section of the Student Portal), you will need this form to be filled out if your illness develops into something that later requires a Special Consideration application to be lodged. You should scan the HPR form and send it with the extension requests.\n",
    "\n",
    "<b>Marks</b>: This assignment will be marked out of 20, and make up 20% of your overall mark for this subject.\n",
    "\n",
    "<b>Materials</b>: Use Jupyter Notebook and Python page on Canvas for information on the basic setup required for this class, including an iPython notebook viewer and the python packages NLTK, Numpy, Scipy, Matplotlib, Scikit-Learn. You can use any Python built-in packages, but do not use any other 3rd party packages; if your iPython notebook doesn't run on the marker's machine, you will lose marks. <b> You should use Python 3</b>.  \n",
    "\n",
    "\n",
    "<b>Evaluation</b>: Your iPython notebook should run end-to-end without any errors in a reasonable amount of time, and you must follow all instructions provided below, including specific implementation requirements and instructions for what needs to be printed (please avoid printing output we don't ask for). You should edit the sections below where requested, but leave the rest of the code as is. You should leave the output from running your code in the iPython notebook you submit, to assist with marking. The amount each section is worth is given in parenthesis after the instructions. \n",
    "\n",
    "You will be marked not only on the correctness of your methods, but also the quality and efficency of your code: in particular, you should be careful to use Python built-in functions and operators when appropriate and pick descriptive variable names that adhere to <a href=\"https://www.python.org/dev/peps/pep-0008/\">Python style requirements</a>. If you think it might be unclear what you are doing, you should comment your code to help the marker make sense of it. We reserve the right to deduct up to 2 marks for unreadable or exessively inefficient code.\n",
    "\n",
    "8 of the marks available for this Project will be assigned to whether the four specified Python functions work in a manner consistent with the materials from COMP30027. Any other implementation will not be directly assessed (except insofar as it is required to make these five functions work correctly).\n",
    "\n",
    "12 of the marks will be assigned to your responses to the questions, in terms of both accuracy and insightfulness. We will be looking for evidence that you have an implementation that allows you to explore the problem, but also that you have thought deeply about the data and the behaviour of the Naive Bayes classifier.\n",
    "\n",
    "<b>Updates</b>: Any major changes to the assignment will be announced via Canvas. Minor changes and clarifications will be announced on the discussion board (ED -> Assignments -> A1); we recommend you check it regularly.\n",
    "\n",
    "<b>Academic misconduct</b>: For most people, collaboration will form a natural part of the undertaking of this homework, and we encourge you to discuss it in general terms with other students. However, this ultimately is still an individual task, and so reuse of code or other instances of clear influence will be considered cheating. Please check the <a href=\"https://canvas.lms.unimelb.edu.au/courses/124196/modules#module_662096\">CIS Academic Honesty training</a> for more information. We will be checking submissions for originality and will invoke the University’s <a href=\"http://academichonesty.unimelb.edu.au/policy.html\">Academic Misconduct policy</a> where inappropriate levels of collusion or plagiarism are deemed to have taken place.\n",
    "\n",
    "**IMPORTANT**\n",
    "\n",
    "Please carefully read and fill out the <b>Authorship Declaration</b> form at the bottom of the page. Failure to fill out this form results in the following deductions: \n",
    "<UL TYPE=”square”>\n",
    "<LI>missing Authorship Declaration at the bottom of the page, -5.0\n",
    "<LI>incomplete or unsigned Authorship Declaration at the bottom of the page, -3.0\n",
    "</UL>\n",
    "**NOTE: COMPLETE AND SUBMIT THIS FILE. YOU SHOULD IMPLEMENT FOUR FUNCTIONS AND INCLUDE YOUR ANSWERS TO THE QUESTIONS IN THIS FILE ONLY. NO OTHER SUBMISSION IS REQUIRED.**\n",
    "\n",
    "**Keep your code clean. Adding proper comments to your code is MANDATORY.**"
   ]
  },
  {
   "cell_type": "markdown",
   "metadata": {},
   "source": [
    "## Part 1: Base code [8 marks]\n",
    "\n",
    "Instructions\n",
    "1. Do **not** shuffle the data set\n",
    "2. Treat the attributes as they are(e.g., do **not** convert numeric attributes to categorical or categorical to numeric). Implement a Naive Bayes classifier with appropriate likelihood function for each attribute.\n",
    "3. You should implement the Naive Bayes classifier from scratch. Do **not** use existing implementations/learning algorithms.\n",
    "4. You CANNOT have more than one train or predict function. Both continuous numeric attributes and categorical ones should be trained in one `train()` function, similarly for the `predict()`.  \n",
    "5. Apart from the instructions in point 3, you may use libraries to help you with data reading, representation, maths or evaluation\n",
    "6. Ensure that all and only required information is printed, as indicated in the final three code cells. Failure to adhere to print the required information will result in **[-1 mark]** per case. *(We don't mind details like you print a list or several numbers -- just make sure the information is displayed so that it's easily accessible)\n",
    "7. You may change the prototypes of these functions, and you may write other functions, according to your requirements. We would appreciate it if the required functions were prominent/easy to find. \n",
    "8. You should add adequate comments to make your code easily comprehendible.*"
   ]
  },
  {
   "cell_type": "code",
   "execution_count": 513,
   "metadata": {},
   "outputs": [],
   "source": [
    "class NaiveBayes:\n",
    "    class ConditionalProbability:\n",
    "        parameters_multinomial = {}\n",
    "        parameters_gaussian = {}\n",
    "        parameters_multinomial_unobserved = {}\n",
    "        def __init__(self, x, y, smoothing_parameter):\n",
    "            self.num_features = x.shape[1]\n",
    "            x.apply(lambda c: self.fit_parameter(c, y, c.name, smoothing_parameter), axis=0)\n",
    "        \n",
    "        def fit_parameter(self, x_feat, y, feat_name, smoothing_parameter):\n",
    "            # remove all entries where either feature or label are nan\n",
    "            nan_indexes = list(set([i[0] for i in x_feat.items() if i[1] is np.nan] + [i[0] for i in y.items() if i[1] is np.nan]))\n",
    "            filtered_x_feat = x_feat.drop(nan_indexes)\n",
    "            filtered_y = y.drop(nan_indexes)\n",
    "            \n",
    "            if(x_feat.dtype == \"object\"):\n",
    "                self.fit_parameter_categorical(filtered_x_feat, filtered_y, feat_name, smoothing_parameter)\n",
    "            elif(x_feat.dtype == \"int64\"):\n",
    "                self.fit_parameter_continuous(filtered_x_feat, filtered_y, feat_name)\n",
    "        \n",
    "        def fit_parameter_continuous(self, x_feat, y, feat_name):\n",
    "            self.parameters_gaussian[feat_name] = {}\n",
    "            for y_val in y.unique():\n",
    "                filtered_x_feat = np.array([i[1] for i in x_feat.items() if y[i[0]] == y_val])\n",
    "                mean = np.mean(filtered_x_feat)\n",
    "                sd = np.sqrt(np.var(filtered_x_feat, ddof=1))\n",
    "                self.parameters_gaussian[feat_name][y_val] = {\"mean\": mean, \"sd\": sd}\n",
    "        \n",
    "        def fit_parameter_categorical(self, x_feat, y, feat_name, smoothing_parameter):\n",
    "            self.parameters_multinomial[feat_name] = {}\n",
    "            self.parameters_multinomial_unobserved[feat_name] = {}\n",
    "            for y_val in y.unique():\n",
    "                self.parameters_multinomial[feat_name][y_val] = {}\n",
    "                total = y.value_counts()[y_val]\n",
    "                for x_val in x_feat.unique(): \n",
    "                    occurences = [i[1] for i in x_feat.items() if y[i[0]] == y_val].count(x_val)\n",
    "                    self.parameters_multinomial[feat_name][y_val][x_val] =  (float(occurences) + smoothing_parameter)/(total + smoothing_parameter * self.num_features)\n",
    "                self.parameters_multinomial_unobserved[feat_name][y_val] = float(smoothing_parameter)/(total + smoothing_parameter * self.num_features)\n",
    "        \n",
    "        def get_conditional_probability(self, x_val, y_val, feat_name):\n",
    "            if type(x_val) is str:\n",
    "                return self.get_conditional_probability_categorical(x_val, y_val, feat_name)\n",
    "            elif (type(x_val) is float) or (type(x_val) is int) or (isinstance(x_val, np.integer)):\n",
    "                return self.get_conditional_probability_continuous(x_val, y_val, feat_name)\n",
    "            return 0\n",
    "        \n",
    "        def get_conditional_probability_continuous(self, x_val, y_val, feat_name):\n",
    "            if y_val in self.parameters_gaussian[feat_name]:\n",
    "                params = self.parameters_gaussian[feat_name][y_val]\n",
    "                return norm.pdf(x_val, params[\"mean\"], params[\"sd\"])\n",
    "            return 0\n",
    "        \n",
    "        def get_conditional_probability_categorical(self, x_val, y_val, feat_name):\n",
    "            if y_val in self.parameters_multinomial[feat_name] and x_val in self.parameters_multinomial[feat_name][y_val]:\n",
    "                return self.parameters_multinomial[feat_name][y_val][x_val] \n",
    "            # additive smoothing for unobserved feature values\n",
    "            elif y_val in self.parameters_multinomial_unobserved[feat_name]:\n",
    "                return self.parameters_multinomial_unobserved[feat_name][y_val]\n",
    "            else:\n",
    "                return float(smoothing_parameter)/(smoothing_parameter * self.num_features)\n",
    "                \n",
    "    \n",
    "    class KDEConditionalProbability(ConditionalProbability):\n",
    "        parameters_kde = {}\n",
    "        \n",
    "        def __init__(self, x, y, smoothing_parameter, kde_bandwidth):\n",
    "            self.kde_bandwidth = kde_bandwidth\n",
    "            super().__init__(x, y, smoothing_parameter)\n",
    "        \n",
    "        def fit_parameter_continuous(self, x_feat, y, feat_name):\n",
    "            self.parameters_kde[feat_name] = {}\n",
    "            for y_val in y.unique():\n",
    "                filtered_x_feat = np.array([i[1] for i in x_feat.items() if y[i[0]] == y_val])\n",
    "                self.parameters_kde[feat_name][y_val] = filtered_x_feat\n",
    "        \n",
    "        def get_conditional_probability_continuous(self, x_val, y_val, feat_name):\n",
    "            if y_val in self.parameters_kde[feat_name]:\n",
    "                sample = self.parameters_kde[feat_name][y_val]\n",
    "                kde = lambda x: (float(1) / len(sample)) * np.sum([norm.pdf(x - sample_val, 0, self.kde_bandwidth) for sample_val in sample])\n",
    "                return kde(x_val)\n",
    "            return 0\n",
    "    \n",
    "    \n",
    "    def __init__(self, smoothing_parameter=1, use_kde=False, kde_bandwidth=10):\n",
    "        self.smoothing_parameter = smoothing_parameter\n",
    "        self.use_kde = use_kde\n",
    "        self.kde_bandwidth = kde_bandwidth\n",
    "        self.possible_classes = []\n",
    "    \n",
    "    def train(self, x, y):\n",
    "        self.initialise_priors(y)\n",
    "        self.possible_classes = y.dropna().unique()\n",
    "        if self.use_kde:\n",
    "            self.likelihood_model = self.KDEConditionalProbability(x, y, self.smoothing_parameter, self.kde_bandwidth)\n",
    "        else:\n",
    "            self.likelihood_model = self.ConditionalProbability(x, y, self.smoothing_parameter)\n",
    "    \n",
    "    def initialise_priors(self, y):\n",
    "        self.priors = {}\n",
    "        filtered_y = y.dropna()\n",
    "        for y_val in filtered_y.unique():\n",
    "            occurences = filtered_y.value_counts()[y_val]\n",
    "            total = len(filtered_y)\n",
    "            self.priors[y_val] = float(occurences)/total\n",
    "\n",
    "    def get_model_value(self, i, clas):\n",
    "        return np.log(self.priors[clas]) + np.sum([np.log(self.likelihood_model.get_conditional_probability(item[1], clas, item[0])) if item[1] is not np.nan else 0 for item in i.items()])\n",
    "            \n",
    "    def predict_single(self, i):\n",
    "        model_values = {clas: self.get_model_value(i, clas) for clas in self.possible_classes}\n",
    "        return max(model_values, key=model_values.get)\n",
    "    \n",
    "    def get_all_class_values(self, i):\n",
    "        return {clas: self.get_model_value(i, clas) for clas in self.possible_classes}\n",
    "    \n",
    "    def predict(self, x):\n",
    "        return x.apply(lambda i: self.predict_single(i), axis=1)\n",
    "\n",
    "    \n",
    "    "
   ]
  },
  {
   "cell_type": "code",
   "execution_count": 514,
   "metadata": {},
   "outputs": [],
   "source": [
    "# This function should prepare the data by reading it from a file and converting it into a useful format for training and testing\n",
    "# and implement 90-10 splitting as specified in the project description.\n",
    "def preprocess(filename):\n",
    "    data = pd.read_csv(filename)\n",
    "    \n",
    "    # # replace ? with NAN\n",
    "    # data.replace(\" ?\", np.nan, inplace=True)\n",
    "    label_header = \"label\"\n",
    "    x, y = data.drop(label_header, axis=1), data[label_header]\n",
    "    return train_test_split(x, y, test_size=0.1, shuffle=False)\n",
    "    "
   ]
  },
  {
   "cell_type": "code",
   "execution_count": 515,
   "metadata": {},
   "outputs": [],
   "source": [
    "# This function should calculat prior probabilities and likelihoods (conditional probabilities) from the training data and using\n",
    "# to build a naive Bayes model\n",
    "\n",
    "def train(x, y):\n",
    "    NB = NaiveBayes()\n",
    "    NB.train(x, y)\n",
    "    return NB"
   ]
  },
  {
   "cell_type": "code",
   "execution_count": 516,
   "metadata": {},
   "outputs": [],
   "source": [
    "# This function should predict classes for new items in the testing data\n",
    "def predict(model, x):\n",
    "    return model.predict(x)"
   ]
  },
  {
   "cell_type": "code",
   "execution_count": 517,
   "metadata": {},
   "outputs": [],
   "source": [
    "# This function should evaliate the prediction performance by comparing your model’s class outputs to ground\n",
    "# truth labels, return and output accuracy, confusion matrix and F1 score.\n",
    "\n",
    "def evaluate(y_actual, y_pred):\n",
    "    display_labels = [' <=50K', ' >50K']\n",
    "    conf_matrix = metrics.confusion_matrix(y_actual, y_pred, labels=display_labels)\n",
    "    disp = metrics.ConfusionMatrixDisplay(confusion_matrix=conf_matrix, display_labels=display_labels)\n",
    "    accuracy = metrics.accuracy_score(y_actual, y_pred)\n",
    "    f1 = metrics.f1_score(y_actual, y_pred, pos_label=' <=50K')\n",
    "    disp.plot()\n",
    "    return {\"conf_matrix\": conf_matrix, \"f1_score\": f1, \"accuracy\": accuracy}"
   ]
  },
  {
   "cell_type": "code",
   "execution_count": 522,
   "metadata": {},
   "outputs": [
    {
     "name": "stdout",
     "output_type": "stream",
     "text": [
      "Accuracy:  0.86\n",
      "Confusion Matrix:  [[69  8]\n",
      " [ 6 17]]\n",
      "F1 Score:  0.9078947368421053\n",
      "Attribute vectors of instances [0, 1, 2]:     age         work class   education  education num       marital status  \\\n",
      "0   68                  ?     1st-4th              2             Divorced   \n",
      "1   39          State-gov   Bachelors             13        Never-married   \n",
      "2   50   Self-emp-not-inc   Bachelors             13   Married-civ-spouse   \n",
      "\n",
      "         occupation    relationship    race      sex  hours per week  \\\n",
      "0                 ?   Not-in-family   White   Female              20   \n",
      "1      Adm-clerical   Not-in-family   White     Male              40   \n",
      "2   Exec-managerial         Husband   White     Male              13   \n",
      "\n",
      "  native country (region)  \n",
      "0           United-States  \n",
      "1           United-States  \n",
      "2           United-States  \n",
      "\n",
      "Number of instances (N):  1000\n",
      "Number of attributes (F):  11\n",
      "Number of labels (L):  1\n",
      "\n",
      "\n",
      "Predicted class log-probabilities for instance N-3:  {' <=50K': -20.770128767571666, ' >50K': -19.772222031876098}\n",
      "Predicted class ID for instance N-3:   >50K\n",
      "\n",
      "Predicted class log-probabilities for instance N-2:  {' <=50K': -25.312350601027394, ' >50K': -22.81354039146127}\n",
      "Predicted class ID for instance N-2:   >50K\n",
      "\n",
      "Predicted class log-probabilities for instance N-1:  {' <=50K': -16.931945375962282, ' >50K': -16.92920326737776}\n",
      "Predicted class ID for instance N-1:   >50K\n"
     ]
    },
    {
     "data": {
      "image/png": "[encoded data removed]",
      "text/plain": [
       "<Figure size 432x288 with 2 Axes>"
      ]
     },
     "metadata": {
      "needs_background": "light"
     },
     "output_type": "display_data"
    }
   ],
   "source": [
    "# This cell should act as your \"main\" function where you call the above functions \n",
    "# on the full ADULT data set, and print the evaluation results. [0.33 marks]\n",
    "import pandas as pd\n",
    "import numpy as np\n",
    "from sklearn.model_selection import train_test_split\n",
    "from scipy.stats import norm\n",
    "from sklearn import metrics\n",
    "import matplotlib.pyplot as plt\n",
    "from scipy import stats\n",
    "\n",
    "\n",
    "# First, read in the data and apply your NB model to the ADULT data\n",
    "path = \"dataset/adult.csv\"\n",
    "train_x, test_x, train_y, test_y = preprocess(path)\n",
    "data = pd.read_csv(path)\n",
    "\n",
    "model = train(train_x, train_y)\n",
    "# predicted = predict(model, test_x)\n",
    "\n",
    "# # Second, print the full evaluation results from the evaluate() function\n",
    "results = evaluate(test_y, predicted)\n",
    "print(\"Accuracy: \", results[\"accuracy\"])\n",
    "print(\"Confusion Matrix: \", results[\"conf_matrix\"])\n",
    "print(\"F1 Score: \", results[\"f1_score\"])\n",
    "\n",
    "# Third, print data statistics and model predictions, as instructed below \n",
    "# N is the total number of instances, F the total number of attributes, L the total number of labels\n",
    "# The \"class probabilities\" may be unnormalized\n",
    "# The \"predicted class ID\" must be in range (0, L)\n",
    "\n",
    "print(\"Attribute vectors of instances [0, 1, 2]: \", train_x.head(3)) # of the first three records in adult.csv\n",
    "\n",
    "print(\"\\nNumber of instances (N): \", data.shape[0])\n",
    "print(\"Number of attributes (F): \", data.shape[1] - 1)\n",
    "print(\"Number of labels (L): \", 1)\n",
    "\n",
    "\n",
    "# print out the prediction results of the last three instances\n",
    "print(\"\\n\\nPredicted class log-probabilities for instance N-3: \", model.get_all_class_values(test_x.iloc[-3]))\n",
    "print(\"Predicted class ID for instance N-3: \", model.predict_single(test_x.iloc[-3]))\n",
    "print(\"\\nPredicted class log-probabilities for instance N-2: \", model.get_all_class_values(test_x.iloc[-2]))\n",
    "print(\"Predicted class ID for instance N-2: \", model.predict_single(test_x.iloc[-2]))\n",
    "print(\"\\nPredicted class log-probabilities for instance N-1: \", model.get_all_class_values(test_x.iloc[-1]))\n",
    "print(\"Predicted class ID for instance N-1: \", model.predict_single(test_x.iloc[-1]))\n",
    "\n"
   ]
  },
  {
   "cell_type": "markdown",
   "metadata": {},
   "source": [
    "## Part 2: Conceptual questions [8 marks for groups of 1] / [16 marks for groups of 2]\n",
    "\n",
    "\n",
    "If you are in a group of 1, you should respond to Q1 and Q2.\n",
    "\n",
    "If you are in a group of 2, you should respond to Q1, Q2, Q3 and Q4.\n",
    "\n",
    "A response to a question should take about 100–250 words. You may need to develope codes or functions to help respond to the question here. \n",
    "\n",
    "#### NOTE: We strongly recommend <u>including figures or tables, etc.</u> to support your responses. The figures and tables inserted in Markdown cells must be reproducable by your code."
   ]
  },
  {
   "cell_type": "markdown",
   "metadata": {},
   "source": [
    "### Q1 [4 marks]\n",
    "<u>Sensitivity</u> and <u>specificity</u> are two model evaluation metrics.  A good model should have both sensitivity and specificity high. Use the $2 \\times 2$ confusion matrix returned by `evaluate()` to calculate the sensitivity and specificity. Do you see a difference between them? If so, what causes this difference? Provide suggestions to improve the model performance. "
   ]
  },
  {
   "cell_type": "code",
   "execution_count": 359,
   "metadata": {},
   "outputs": [
    {
     "name": "stdout",
     "output_type": "stream",
     "text": [
      "Sensitivity: 0.8961038961038961\n",
      "Specificity: 0.7391304347826086\n"
     ]
    }
   ],
   "source": [
    "# Write additional code here, if necessary (you may insert additional code cells)\n",
    "# True Positive Rate\n",
    "sensitivity = results[\"conf_matrix\"][0][0]/ sum(results[\"conf_matrix\"][0])\n",
    "specificity = results[\"conf_matrix\"][1][1]/ sum(results[\"conf_matrix\"][1])\n",
    "\n",
    "print(f'Sensitivity: {sensitivity}\\nSpecificity: {specificity}')"
   ]
  },
  {
   "cell_type": "markdown",
   "metadata": {},
   "source": [
    "Provide your text answer of 150-200 words in this cell.\n",
    "The model is quite sensitive - it classified 89.6% of those with a true label of <=50k correctly, but has lower specificity - only classifying 73.9% of those with a true label of >50k correctly. This difference is likely caused by the number of samples with a true label (<=50k) being significantly higher (77) than those of a false label (>50k, only 23). Thus, as the model used a proportion based prior, it was more likely (without feature information) to predict a given sample as positive at a baseline level, leading to many more false positive errors in more borderline cases. This could be improved by replacing the prior distribution with a uniform distribution, which would result in equal chance of predicting either positive or negative at a baseline level, however this would likely reduce the overall accuracy and f1 score of the model."
   ]
  },
  {
   "cell_type": "markdown",
   "metadata": {},
   "source": [
    "### Q2 [4 marks]\n",
    "You can adopt different methods for training and/or testing, which will produce different results in model evaluation. \n",
    "\n",
    "(a) Instead of Gaussian, <u>implement KDE</u> for  $P(X_i|c_j)$ for numeric attributes $X_i$. Compare the evaluation results with Gaussian. Which one do you think is more suitable to model $P(X_i|c_j)$, Gaussian or KDE? Observe all numeric attributes and justify your answer.\n",
    "\n",
    "You can choose an arbitrary value for kernel bandwidth $\\sigma$ for KDE, but a value between 3 and 15 is recommended. You should write code to implement KDE, not call an existing function/method such as `KernelDensity` from `scikit-learn`.\n",
    "\n",
    "(b) Implement <u>10-fold and 2-fold cross-validations</u>.  \n",
    "\tObserve the evaluation results in each fold and the average accuracy, recall and specificity over all folds. \n",
    "\tComment on what is the effect by changing the values of $m$ in $m$-fold cross validation. (You can choose either Gaussian or KDE Naive Bayes.)"
   ]
  },
  {
   "cell_type": "code",
   "execution_count": 317,
   "metadata": {},
   "outputs": [
    {
     "name": "stdout",
     "output_type": "stream",
     "text": [
      "Confusion Matrix:  [[68  6]\n",
      " [ 9 17]]\n",
      "F1 Score:  0.9006622516556292\n"
     ]
    },
    {
     "data": {
      "image/png": "[encoded data removed]",
      "text/plain": [
       "<Figure size 432x288 with 2 Axes>"
      ]
     },
     "metadata": {
      "needs_background": "light"
     },
     "output_type": "display_data"
    }
   ],
   "source": [
    "# implement KDE, kernel bandwidth=3\n",
    "NBKDE = NaiveBayes(use_kde = True, kde_bandwidth=3)\n",
    "NBKDE.train(train_x, train_y)\n",
    "predicted = NBKDE.predict(test_x)\n",
    "\n",
    "results = evaluate(predicted, test_y)\n",
    "\n",
    "print(\"Confusion Matrix: \", results[\"conf_matrix\"])\n",
    "print(\"F1 Score: \", results[\"f1_score\"])"
   ]
  },
  {
   "cell_type": "code",
   "execution_count": 259,
   "metadata": {},
   "outputs": [
    {
     "name": "stdout",
     "output_type": "stream",
     "text": [
      "age\n",
      "count    1000.000000\n",
      "mean       38.080000\n",
      "std        13.383001\n",
      "min        17.000000\n",
      "25%        28.000000\n",
      "50%        36.000000\n",
      "75%        46.000000\n",
      "max        90.000000\n",
      "Name: age, dtype: float64\n",
      "education num\n",
      "count    1000.000000\n",
      "mean       10.073000\n",
      "std         2.559731\n",
      "min         1.000000\n",
      "25%         9.000000\n",
      "50%        10.000000\n",
      "75%        12.000000\n",
      "max        16.000000\n",
      "Name: education num, dtype: float64\n",
      "hours per week\n",
      "count    1000.000000\n",
      "mean       39.846000\n",
      "std        12.030254\n",
      "min         1.000000\n",
      "25%        40.000000\n",
      "50%        40.000000\n",
      "75%        45.000000\n",
      "max        99.000000\n",
      "Name: hours per week, dtype: float64\n"
     ]
    },
    {
     "data": {
      "image/png": "[encoded data removed]",
      "text/plain": [
       "<Figure size 432x288 with 1 Axes>"
      ]
     },
     "metadata": {
      "needs_background": "light"
     },
     "output_type": "display_data"
    },
    {
     "data": {
      "image/png": "[encoded data removed]",
      "text/plain": [
       "<Figure size 432x288 with 1 Axes>"
      ]
     },
     "metadata": {
      "needs_background": "light"
     },
     "output_type": "display_data"
    },
    {
     "data": {
      "image/png": "[encoded data removed]",
      "text/plain": [
       "<Figure size 432x288 with 1 Axes>"
      ]
     },
     "metadata": {
      "needs_background": "light"
     },
     "output_type": "display_data"
    },
    {
     "data": {
      "image/png": "[encoded data removed]",
      "text/plain": [
       "<Figure size 432x288 with 1 Axes>"
      ]
     },
     "metadata": {
      "needs_background": "light"
     },
     "output_type": "display_data"
    },
    {
     "data": {
      "image/png": "[encoded data removed]",
      "text/plain": [
       "<Figure size 432x288 with 1 Axes>"
      ]
     },
     "metadata": {
      "needs_background": "light"
     },
     "output_type": "display_data"
    },
    {
     "data": {
      "image/png": "[encoded data removed]",
      "text/plain": [
       "<Figure size 432x288 with 1 Axes>"
      ]
     },
     "metadata": {
      "needs_background": "light"
     },
     "output_type": "display_data"
    }
   ],
   "source": [
    "# plots of numeric attributes for pt a\n",
    "def plot(x):\n",
    "    print(x.name)\n",
    "    print(x.describe())\n",
    "    ax = plt.subplots()\n",
    "    stats.probplot(x, plot=plt)\n",
    "    \n",
    "    ax2 = plt.subplots()\n",
    "    bandwidth = 3\n",
    "    sample = x\n",
    "    kde = lambda n: (float(1) / len(sample)) * np.sum([norm.pdf(n - sample_val, 0, bandwidth) for sample_val in sample])\n",
    "    plt.plot(range(0, 100, 2), [kde(i) for i in range(0, 100, 2)])\n",
    "    \n",
    "    mean = np.mean(sample)\n",
    "    sd = np.sqrt(np.var(sample, ddof=1))\n",
    "    plt.plot(range(0, 100, 2), norm.pdf(range(0, 100, 2), mean, sd), color=\"orange\")\n",
    "    plt.hist(x, density=True, color=\"red\")\n",
    "    \n",
    "data = pd.read_csv(path).select_dtypes([\"int64\"])\n",
    "data.apply(lambda x: plot(x), axis=0)\n",
    "pass"
   ]
  },
  {
   "cell_type": "code",
   "execution_count": 318,
   "metadata": {},
   "outputs": [
    {
     "name": "stdout",
     "output_type": "stream",
     "text": [
      "TRAIN:      age    work class      education  education num       marital status  \\\n",
      "500   72             ?        HS-grad              9   Married-civ-spouse   \n",
      "501   23     Local-gov        HS-grad              9        Never-married   \n",
      "502   62     Local-gov        HS-grad              9   Married-civ-spouse   \n",
      "503   52       Private   Some-college             10   Married-civ-spouse   \n",
      "504   58       Private   Some-college             10             Divorced   \n",
      "..   ...           ...            ...            ...                  ...   \n",
      "995   35       Private        HS-grad              9        Never-married   \n",
      "996   56       Private        HS-grad              9   Married-civ-spouse   \n",
      "997   45       Private        Masters             14             Divorced   \n",
      "998   48   Federal-gov      Bachelors             13             Divorced   \n",
      "999   40       Private   Some-college             10   Married-civ-spouse   \n",
      "\n",
      "             occupation    relationship    race      sex  hours per week  \\\n",
      "500                   ?         Husband   White     Male              20   \n",
      "501     Farming-fishing   Not-in-family   White     Male              40   \n",
      "502    Transport-moving         Husband   White     Male              40   \n",
      "503        Adm-clerical         Husband   White     Male              40   \n",
      "504       Other-service       Unmarried   White   Female              42   \n",
      "..                  ...             ...     ...      ...             ...   \n",
      "995     Exec-managerial   Not-in-family   White     Male              45   \n",
      "996     Exec-managerial         Husband   White     Male              55   \n",
      "997      Prof-specialty   Not-in-family   White     Male              45   \n",
      "998     Exec-managerial       Unmarried   White     Male              58   \n",
      "999   Machine-op-inspct         Husband   White     Male              40   \n",
      "\n",
      "    native country (region)  \n",
      "500           United-States  \n",
      "501                  Poland  \n",
      "502           United-States  \n",
      "503           United-States  \n",
      "504                  France  \n",
      "..                      ...  \n",
      "995           United-States  \n",
      "996           United-States  \n",
      "997           United-States  \n",
      "998           United-States  \n",
      "999           United-States  \n",
      "\n",
      "[500 rows x 11 columns] TEST: 500     <=50K\n",
      "501     <=50K\n",
      "502     <=50K\n",
      "503     <=50K\n",
      "504     <=50K\n",
      "        ...  \n",
      "995     <=50K\n",
      "996      >50K\n",
      "997     <=50K\n",
      "998      >50K\n",
      "999     <=50K\n",
      "Name: label, Length: 500, dtype: object\n",
      "TRAIN:      age         work class      education  education num  \\\n",
      "0     68                  ?        1st-4th              2   \n",
      "1     39          State-gov      Bachelors             13   \n",
      "2     50   Self-emp-not-inc      Bachelors             13   \n",
      "3     38            Private        HS-grad              9   \n",
      "4     53            Private           11th              7   \n",
      "..   ...                ...            ...            ...   \n",
      "495   33            Private      Bachelors             13   \n",
      "496   41            Private        HS-grad              9   \n",
      "497   20            Private   Some-college             10   \n",
      "498   23            Private        5th-6th              3   \n",
      "499   26            Private   Some-college             10   \n",
      "\n",
      "          marital status          occupation    relationship    race      sex  \\\n",
      "0               Divorced                   ?   Not-in-family   White   Female   \n",
      "1          Never-married        Adm-clerical   Not-in-family   White     Male   \n",
      "2     Married-civ-spouse     Exec-managerial         Husband   White     Male   \n",
      "3               Divorced   Handlers-cleaners   Not-in-family   White     Male   \n",
      "4     Married-civ-spouse   Handlers-cleaners         Husband   Black     Male   \n",
      "..                   ...                 ...             ...     ...      ...   \n",
      "495        Never-married        Craft-repair       Own-child   White     Male   \n",
      "496             Divorced        Adm-clerical       Unmarried   White   Female   \n",
      "497        Never-married   Machine-op-inspct       Own-child   White     Male   \n",
      "498        Never-married       Other-service       Own-child   White     Male   \n",
      "499        Never-married      Prof-specialty   Not-in-family   White   Female   \n",
      "\n",
      "     hours per week native country (region)  \n",
      "0                20           United-States  \n",
      "1                40           United-States  \n",
      "2                13           United-States  \n",
      "3                40           United-States  \n",
      "4                40           United-States  \n",
      "..              ...                     ...  \n",
      "495              20           United-States  \n",
      "496              36           United-States  \n",
      "497              40           United-States  \n",
      "498              40             El-Salvador  \n",
      "499              35           United-States  \n",
      "\n",
      "[500 rows x 11 columns] TEST: 0       <=50K\n",
      "1       <=50K\n",
      "2       <=50K\n",
      "3       <=50K\n",
      "4       <=50K\n",
      "        ...  \n",
      "495     <=50K\n",
      "496     <=50K\n",
      "497     <=50K\n",
      "498     <=50K\n",
      "499     <=50K\n",
      "Name: label, Length: 500, dtype: object\n"
     ]
    },
    {
     "ename": "KeyError",
     "evalue": "'conf_matrix'",
     "output_type": "error",
     "traceback": [
      "\u001b[1;31m---------------------------------------------------------------------------\u001b[0m",
      "\u001b[1;31mKeyError\u001b[0m                                  Traceback (most recent call last)",
      "Input \u001b[1;32mIn [318]\u001b[0m, in \u001b[0;36m<cell line: 31>\u001b[1;34m()\u001b[0m\n\u001b[0;32m     28\u001b[0m X, y \u001b[38;5;241m=\u001b[39m preprocess_but_dont_split(path)\n\u001b[0;32m     29\u001b[0m average_results_2f \u001b[38;5;241m=\u001b[39m cross_validate(X, y, \u001b[38;5;241m2\u001b[39m)\n\u001b[1;32m---> 31\u001b[0m \u001b[38;5;28mprint\u001b[39m(\u001b[38;5;124m\"\u001b[39m\u001b[38;5;124mConfusion Matrix: \u001b[39m\u001b[38;5;124m\"\u001b[39m, \u001b[43maverage_results_2f\u001b[49m\u001b[43m[\u001b[49m\u001b[38;5;124;43m\"\u001b[39;49m\u001b[38;5;124;43mconf_matrix\u001b[39;49m\u001b[38;5;124;43m\"\u001b[39;49m\u001b[43m]\u001b[49m)\n\u001b[0;32m     32\u001b[0m \u001b[38;5;28mprint\u001b[39m(\u001b[38;5;124m\"\u001b[39m\u001b[38;5;124mF1 Score: \u001b[39m\u001b[38;5;124m\"\u001b[39m, average_results_2f[\u001b[38;5;124m\"\u001b[39m\u001b[38;5;124mf1_score\u001b[39m\u001b[38;5;124m\"\u001b[39m])\n\u001b[0;32m     33\u001b[0m \u001b[38;5;28mprint\u001b[39m(\u001b[38;5;124m\"\u001b[39m\u001b[38;5;124mAccuracy: \u001b[39m\u001b[38;5;124m\"\u001b[39m, average_results_2f[\u001b[38;5;124m\"\u001b[39m\u001b[38;5;124maccuracy\u001b[39m\u001b[38;5;124m\"\u001b[39m])\n",
      "\u001b[1;31mKeyError\u001b[0m: 'conf_matrix'"
     ]
    },
    {
     "data": {
      "image/png": "[encoded data removed]",
      "text/plain": [
       "<Figure size 432x288 with 2 Axes>"
      ]
     },
     "metadata": {
      "needs_background": "light"
     },
     "output_type": "display_data"
    },
    {
     "data": {
      "image/png": "[encoded data removed]",
      "text/plain": [
       "<Figure size 432x288 with 2 Axes>"
      ]
     },
     "metadata": {
      "needs_background": "light"
     },
     "output_type": "display_data"
    }
   ],
   "source": [
    "from sklearn.model_selection import KFold\n",
    "\n",
    "def preprocess_but_dont_split(filename):\n",
    "    data = pd.read_csv(filename)\n",
    "    \n",
    "    # # replace ? with NAN\n",
    "    # data.replace(\" ?\", np.nan, inplace=True)\n",
    "    label_header = \"label\"\n",
    "    x, y = data.drop(label_header, axis=1), data[label_header]\n",
    "    return x, y\n",
    "\n",
    "def cross_validate(X, y, n_folds):\n",
    "    kf = KFold(n_splits=n_folds)\n",
    "    average_results = {\"specificity\": 0, \"recall\":0, \"f1_score\": 0, \"accuracy\": 0}\n",
    "    for train_index, test_index in kf.split(X):\n",
    "        X_train, X_test = X.iloc[train_index], X.iloc[test_index]\n",
    "        y_train, y_test = y.iloc[train_index], y.iloc[test_index]\n",
    "        print(\"TRAIN:\", X_train, \"TEST:\", y_train)\n",
    "        model = train(X_train, y_train)\n",
    "        predicted = predict(model, X_test)\n",
    "        results = evaluate(y_test, predicted)\n",
    "        average_results[\"recall\"] += (results[\"conf_matrix\"][0][0]/ sum(results[\"conf_matrix\"][0]))/n_folds\n",
    "        average_results[\"specificity\"] += (results[\"conf_matrix\"][1][1]/ sum(results[\"conf_matrix\"][1]))/n_folds\n",
    "        average_results[\"f1_score\"] += results[\"f1_score\"]/n_folds\n",
    "        average_results[\"accuracy\"] += results[\"accuracy\"]/n_folds\n",
    "    return average_results\n",
    "\n",
    "X, y = preprocess_but_dont_split(path)\n",
    "average_results_2f = cross_validate(X, y, 2)\n",
    "        \n",
    "print(\"Confusion Matrix: \", average_results_2f[\"conf_matrix\"])\n",
    "print(\"F1 Score: \", average_results_2f[\"f1_score\"])\n",
    "print(\"Accuracy: \", average_results_2f[\"accuracy\"])"
   ]
  },
  {
   "cell_type": "markdown",
   "metadata": {
    "jupyter": {
     "outputs_hidden": true
    }
   },
   "source": [
    "a) KDE was implemented with a kernel bandwidth of 3. The diagnostic plots for this question are qqplots of the numeric attributes (age, education num and hrs per week in order) against a normal distribution, and a comparison of the fitted normal distribution (orange), the fitted KDE (blue) and the actual data (red histogram). From the qqplot we can see that each of the attributes can be roughly modelled by a normal distribution, despite some differences (eg heavier right tail for age, a more distinct mode for hours per week). These details can be seen to be picked up better by the KDE in the comparison plots, where the tail can be seen in the fitted KDE for age and the peak is more distinct in the hours per week. Despite this, however, as we chose a single bandwidth for all numeric attributes, the KDE struggles with the education num, as the range of values is significantly smaller than the other two attributes, and hence the bandwidth of 3 appears to oversmooth it. Due to this, and the fact that the normal is a usable approximation of the attributes, the perfomance of KDE (at bandwidth 3) and Gaussian appear to be fairly similar overall, and this is supported by the confusion matrix for the KDE, which is essentially the same as the gaussian implementation (gaussian also has a very slightly higher F1 score). Due to the noticable deviations from the normal distribution of the sample distributions of all our numerical attributes (which appear to be successfully picked up by KDE), a KDE Bayesian is more suitable than the Gaussian, however, different suitable kernel bandwidths would have to be set for each of the different numerical attributes to see better results.\n"
   ]
  },
  {
   "cell_type": "markdown",
   "metadata": {},
   "source": [
    "### Q3 [4 marks]\n",
    "In `train()`, you are asked to treat the missing value of nominal attributes as a new category. There is another option (as suggested in Thu lecture in week 2): <u>ignoring the missing values</u>. \n",
    "Compare the two methods in both large and small datasets. Comment and explain your observations.\n",
    "You can extract the first 50 records to construct a small dataset.Use Gaussian Naive Bayes only for this question."
   ]
  },
  {
   "cell_type": "code",
   "execution_count": 525,
   "metadata": {},
   "outputs": [
    {
     "name": "stdout",
     "output_type": "stream",
     "text": [
      "Same predictions - Large True     99\n",
      "False     1\n",
      "dtype: int64\n",
      "Train nulls:  133  Test nulls:  11 \n",
      "\n",
      "Different prediction:  age                                         40\n",
      "work class                             Private\n",
      "education                         Some-college\n",
      "education num                               10\n",
      "marital status              Married-civ-spouse\n",
      "occupation                   Machine-op-inspct\n",
      "relationship                           Husband\n",
      "race                                     White\n",
      "sex                                       Male\n",
      "hours per week                              40\n",
      "native country (region)          United-States\n",
      "Name: 999, dtype: object \n",
      "\n",
      "Log probabilities:  {' <=50K': -16.759405381927323, ' >50K': -16.85523227368138} \n",
      "\n",
      "\n",
      "Same predictions - Small True    5\n",
      "dtype: int64\n",
      "Train nulls:  6  Test nulls:  0\n"
     ]
    },
    {
     "data": {
      "image/png": "[encoded data removed]",
      "text/plain": [
       "<Figure size 432x288 with 2 Axes>"
      ]
     },
     "metadata": {
      "needs_background": "light"
     },
     "output_type": "display_data"
    },
    {
     "data": {
      "image/png": "[encoded data removed]",
      "text/plain": [
       "<Figure size 432x288 with 2 Axes>"
      ]
     },
     "metadata": {
      "needs_background": "light"
     },
     "output_type": "display_data"
    }
   ],
   "source": [
    "def preprocess_advanced(filename, with_nans=False, num_records=None):\n",
    "    data = pd.read_csv(filename)\n",
    "    \n",
    "    if num_records is not None:\n",
    "        data = data.head(num_records)\n",
    "    \n",
    "    if with_nans:\n",
    "        # replace ? with NAN\n",
    "        data.replace(\" ?\", np.nan, inplace=True)\n",
    "        \n",
    "    label_header = \"label\"\n",
    "    x, y = data.drop(label_header, axis=1), data[label_header]\n",
    "    return train_test_split(x, y, test_size=0.1, shuffle=False)\n",
    "\n",
    "\n",
    "nan_train_x, nan_test_x, nan_train_y, nan_test_y = preprocess_advanced(path, True)\n",
    "NANNB = NaiveBayes()\n",
    "NANNB.train(nan_train_x, nan_train_y)\n",
    "nan_predictions = NANNB.predict(nan_test_x)\n",
    "\n",
    "train_nulls = nan_train_x.isnull().sum().sum()\n",
    "test_nulls = nan_test_x.isnull().sum().sum()\n",
    "\n",
    "evaluate(nan_test_y, nan_predictions)\n",
    "\n",
    "print(\"Same predictions - Large\", nan_predictions.eq(predicted).value_counts())\n",
    "print(\"Train nulls: \", train_nulls, \" Test nulls: \", test_nulls, \"\\n\")\n",
    "\n",
    "different_index = [i[0] for i in nan_predictions.items() if predicted[i[0]] != i[1]][0]\n",
    "print(\"Different prediction: \", nan_test_x.loc[different_index] ,\"\\n\")\n",
    "print(\"Log probabilities: \", NANNB.get_all_class_values(nan_test_x.loc[different_index]), \"\\n\\n\")\n",
    "\n",
    "\n",
    "train_x, test_x, train_y, test_y = preprocess_advanced(path, False, 50)\n",
    "NB = NaiveBayes()\n",
    "NB.train(train_x, train_y)\n",
    "predictions = NB.predict(test_x)\n",
    "\n",
    "\n",
    "nan_train_x, nan_test_x, nan_train_y, nan_test_y = preprocess_advanced(path, True, 50)\n",
    "NANNB = NaiveBayes()\n",
    "NANNB.train(nan_train_x, nan_train_y)\n",
    "nan_predictions = NANNB.predict(nan_test_x)\n",
    "\n",
    "train_nulls = nan_train_x.isnull().sum().sum()\n",
    "test_nulls = nan_test_x.isnull().sum().sum()\n",
    "\n",
    "evaluate(nan_test_y, nan_predictions)\n",
    "\n",
    "\n",
    "print(\"Same predictions - Small\", nan_predictions.eq(predictions).value_counts())\n",
    "print(\"Train nulls: \", train_nulls, \" Test nulls: \", test_nulls)\n",
    "\n",
    "\n"
   ]
  },
  {
   "cell_type": "markdown",
   "metadata": {},
   "source": [
    "We have constructed the small dataset using the same method as the large one - take 50 records and do a 90-10 train, test split without shuffling. From the results printed above, we notice that for the large dataset, 1 instance was classified differently due to the change in treament of the missing value, which has been printed above (under Different prediction:). From the confusion matrix, we can see that this instance was correctly reclassified from >50K to <=50K (compared to treating ? as a separate category), and and hence this change appears to have slightly improved our model. This is in contrast to the small dataset, were we can see that all instances were classified the same in both treatments of the ? category.\n",
    "\n",
    "We can see that the proportion of ? in the small and large dataset is around the same (the large dataset is 20x larger) from the train and test nulls that we have logged. Due to this, and the overall small proportion of ?'s overall, we would expect the ? category to be fitted quite badly for the small dataset, and thus lead to bad predictions (as we would likely expect ? to be more uniform between classes as there become more ?'s in the data). This did not impact the results of our small dataset, however, as we can see that no ? appeared in our test data - meaning that the ? values in the train set would only have led to small changes in the conditional probability of other feature values - thus not leading to any reclassifications. With such a small test set, we are also unlikely to have any cases where the log-probabilities of the classes are very similar, which is the likely case where reclassification will occur.\n",
    "\n",
    "For the large dataset, only one record was correctly reclassified with the change. This is likely due to the low overall prevalance of ? in the dataset, which means if an instance has ?'s, its likely only for one feature out of many, meaning even if ? was treated as a category its unlikely to have a significant impact on the log-probability of the instance. The largeness of the dataset and the fact that the ?'s are only in 2 columns (occupation and native country) means that its likely the ?'s were fairly evenly distributed between classes (an noneven distribution would be the case where ignoring ?'s leads to significantly improved model performance), also supporting the idea that ?'s are unlikely to significantly impact log probability. In a large dataset, however, in contrast to a small dataset, we are likely to have some cases where the log-probabiliies are very similar - as we can see in the log probabilities of the reclassified instance (-16.76 vs -16.86). In cases like this, even though the reclassified case did not have a ? value, during the train phase, can change the condidtional probabilties of other values of that feature slightly - and lead to reclassifications through small changes in log-probability.\n",
    "\n",
    "Overall, from our results, and likely due to the low over proportions of ?, we can conclude that ignoring the missing values instead had little impact on model performance."
   ]
  },
  {
   "cell_type": "markdown",
   "metadata": {},
   "source": [
    "### Q4 [4 marks]\n",
    "In week 4, we have learned how to obtain information gain (IG) and gain ratio (GR) to choose an attribute to split a node in a decision tree. We will see how to apply them in the Naive Bayes classification.\n",
    "\n",
    "(a) Compute the GR of each attribute $X_i$, relative to the class distribution. In the Na\\\"ive Bayes classifier, remove attributes in the ascending order of GR: first, remove $P(X_i|c_j)$ such that $X_i$ has the least GR; second, remove $P(X_{i'}|c_j)$ such that $X_{i'}$ has the second least GR,......, until there is only one $X_{i*}$ with the largest GR remaining in the maximand $P(c_j) P(X_{i^*} | c_j)$. Observe the <u>change of the accuracy for both Gaussian and KDE</u> (Choose bandwidth $\\sigma=10$ for KDE).\n",
    "\n",
    "(b) Compute the IG between each pair of attributes. Describe and explain your observations. Choose an attribute and implement an estimator to predict the value of `education num`. Explain why you choose this attribute. Enumerate two other examples that an attribute can be used to estimate the other and explain the reason.  "
   ]
  },
  {
   "cell_type": "code",
   "execution_count": null,
   "metadata": {},
   "outputs": [],
   "source": [
    "# Write additional code here, if necessary (you may insert additional code cells)\n"
   ]
  },
  {
   "cell_type": "markdown",
   "metadata": {},
   "source": [
    "### (a)"
   ]
  },
  {
   "cell_type": "markdown",
   "metadata": {},
   "source": [
    "Provide your text answer to **Question 4.a** of 100-150 words in this cell."
   ]
  },
  {
   "cell_type": "markdown",
   "metadata": {},
   "source": [
    "### (b)"
   ]
  },
  {
   "cell_type": "markdown",
   "metadata": {},
   "source": [
    "Provide your text answer to **Question 4.b** of 150-200 words in this cell."
   ]
  },
  {
   "cell_type": "markdown",
   "metadata": {},
   "source": [
    "<b>Authorship Declaration</b>:\n",
    "\n",
    "   (1) I certify that the program contained in this submission is completely\n",
    "   my own individual work, except where explicitly noted by comments that\n",
    "   provide details otherwise.  I understand that work that has been developed\n",
    "   by another student, or by me in collaboration with other students,\n",
    "   or by non-students as a result of request, solicitation, or payment,\n",
    "   may not be submitted for assessment in this subject.  I understand that\n",
    "   submitting for assessment work developed by or in collaboration with\n",
    "   other students or non-students constitutes Academic Misconduct, and\n",
    "   may be penalized by mark deductions, or by other penalties determined\n",
    "   via the University of Melbourne Academic Honesty Policy, as described\n",
    "   at https://academicintegrity.unimelb.edu.au.\n",
    "\n",
    "   (2) I also certify that I have not provided a copy of this work in either\n",
    "   softcopy or hardcopy or any other form to any other student, and nor will\n",
    "   I do so until after the marks are released. I understand that providing\n",
    "   my work to other students, regardless of my intention or any undertakings\n",
    "   made to me by that other student, is also Academic Misconduct.\n",
    "\n",
    "   (3) I further understand that providing a copy of the assignment\n",
    "   specification to any form of code authoring or assignment tutoring\n",
    "   service, or drawing the attention of others to such services and code\n",
    "   that may have been made available via such a service, may be regarded\n",
    "   as Student General Misconduct (interfering with the teaching activities\n",
    "   of the University and/or inciting others to commit Academic Misconduct).\n",
    "   I understand that an allegation of Student General Misconduct may arise\n",
    "   regardless of whether or not I personally make use of such solutions\n",
    "   or sought benefit from such actions.\n",
    "\n",
    "   <b>Signed by</b>: Ryan Kam 1170671\n",
    "   \n",
    "   <b>Dated</b>: 08/04/2022"
   ]
  }
 ],
 "metadata": {
  "kernelspec": {
   "display_name": "Python 3 (ipykernel)",
   "language": "python",
   "name": "python3"
  },
  "language_info": {
   "codemirror_mode": {
    "name": "ipython",
    "version": 3
   },
   "file_extension": ".py",
   "mimetype": "text/x-python",
   "name": "python",
   "nbconvert_exporter": "python",
   "pygments_lexer": "ipython3",
   "version": "3.9.7"
  }
 },
 "nbformat": 4,
 "nbformat_minor": 4
}
